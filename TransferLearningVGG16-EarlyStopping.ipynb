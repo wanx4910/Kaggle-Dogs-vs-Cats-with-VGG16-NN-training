{
 "cells": [
  {
   "cell_type": "code",
   "execution_count": 1,
   "metadata": {
    "ExecuteTime": {
     "end_time": "2019-09-05T11:23:55.821788Z",
     "start_time": "2019-09-05T11:23:52.099699Z"
    }
   },
   "outputs": [
    {
     "name": "stderr",
     "output_type": "stream",
     "text": [
      "Using TensorFlow backend.\n"
     ]
    }
   ],
   "source": [
    "import os\n",
    "from pathlib import Path\n",
    "import numpy as np\n",
    "from keras.preprocessing import image\n",
    "from keras.applications import vgg16\n",
    "from keras.layers import Dense, Dropout, Flatten\n",
    "from keras import callbacks\n",
    "from keras.preprocessing.image import ImageDataGenerator\n",
    "import matplotlib.pyplot as plt\n",
    "%matplotlib inline\n",
    "from keras import backend as K\n",
    "import tensorflow as tf\n",
    "NUM_PARALLEL_EXEC_UNITS = 4\n",
    "config = tf.ConfigProto(intra_op_parallelism_threads=NUM_PARALLEL_EXEC_UNITS, inter_op_parallelism_threads=2,\n",
    "                       allow_soft_placement=True, device_count={'CPU': NUM_PARALLEL_EXEC_UNITS})\n",
    "session = tf.Session(config=config)\n",
    "K.set_session(session)\n",
    "os.environ[\"OMP_NUM_THREADS\"] = \"4\"\n",
    "os.environ[\"KMP_BLOCKTIME\"] = \"30\"\n",
    "os.environ[\"KMP_SETTINGS\"] = \"1\"\n",
    "os.environ[\"KMP_AFFINITY\"] = \"granularity=fine,verbose,compact,1,0\""
   ]
  },
  {
   "cell_type": "code",
   "execution_count": 2,
   "metadata": {
    "ExecuteTime": {
     "end_time": "2019-09-05T11:23:55.853920Z",
     "start_time": "2019-09-05T11:23:55.849519Z"
    }
   },
   "outputs": [],
   "source": [
    "# Path to folders with training data\n",
    "dog_path = Path(\"dogs-vs-cats/train/\") / \"dogs\"\n",
    "not_dog_path = Path(\"dogs-vs-cats/train/\") / \"not_dogs\"\n",
    "\n",
    "images = []\n",
    "labels = []"
   ]
  },
  {
   "cell_type": "code",
   "execution_count": 3,
   "metadata": {
    "ExecuteTime": {
     "end_time": "2019-09-05T11:24:07.070156Z",
     "start_time": "2019-09-05T11:23:57.818325Z"
    }
   },
   "outputs": [],
   "source": [
    "# Load all the not-dog images\n",
    "for img in not_dog_path.glob(\"*.jpg\"):\n",
    "    # Load the image from disk, resizing it to 224x224 pixels (required by this model)\n",
    "    img = image.load_img(img, target_size=(224,224))\n",
    "\n",
    "    # Convert the image to a numpy array\n",
    "    image_array = image.img_to_array(img)\n",
    "\n",
    "    # Add the image to the list of images\n",
    "    images.append(image_array)\n",
    "\n",
    "    # For each 'not dog' image, the expected value should be 0\n",
    "    labels.append(0)"
   ]
  },
  {
   "cell_type": "code",
   "execution_count": 4,
   "metadata": {
    "ExecuteTime": {
     "end_time": "2019-09-05T11:24:44.486316Z",
     "start_time": "2019-09-05T11:24:34.961948Z"
    }
   },
   "outputs": [],
   "source": [
    "# Load all the dog images\n",
    "for img in dog_path.glob(\"*.jpg\"):\n",
    "    # Load the image from disk, resizing it to 224x224 pixels (required by this model)\n",
    "    img = image.load_img(img, target_size=(224,224))\n",
    "\n",
    "    # Convert the image to a numpy array\n",
    "    image_array = image.img_to_array(img)\n",
    "\n",
    "    # Add the image to the list of images\n",
    "    images.append(image_array)\n",
    "\n",
    "    # For each 'dog' image, the expected value should be 1\n",
    "    labels.append(1)"
   ]
  },
  {
   "cell_type": "code",
   "execution_count": 5,
   "metadata": {
    "ExecuteTime": {
     "end_time": "2019-09-05T11:25:06.260216Z",
     "start_time": "2019-09-05T11:25:06.074584Z"
    }
   },
   "outputs": [],
   "source": [
    "from sklearn.utils import shuffle\n",
    "images, labels = shuffle(images, labels)\n"
   ]
  },
  {
   "cell_type": "code",
   "execution_count": 7,
   "metadata": {
    "ExecuteTime": {
     "end_time": "2019-09-05T11:25:37.503247Z",
     "start_time": "2019-09-05T11:25:32.850479Z"
    }
   },
   "outputs": [],
   "source": [
    "X = np.array(images).shape"
   ]
  },
  {
   "cell_type": "code",
   "execution_count": 9,
   "metadata": {
    "ExecuteTime": {
     "end_time": "2019-09-05T11:26:34.831023Z",
     "start_time": "2019-09-05T11:26:34.822041Z"
    }
   },
   "outputs": [
    {
     "data": {
      "text/plain": [
       "(6596, 224, 224, 3)"
      ]
     },
     "execution_count": 9,
     "metadata": {},
     "output_type": "execute_result"
    }
   ],
   "source": [
    "X"
   ]
  },
  {
   "cell_type": "code",
   "execution_count": 10,
   "metadata": {
    "ExecuteTime": {
     "end_time": "2019-09-05T11:27:15.423125Z",
     "start_time": "2019-09-05T11:27:00.351571Z"
    }
   },
   "outputs": [],
   "source": [
    "X = np.array(images)\n",
    "\n",
    "# Also convert the labels to a numpy array\n",
    "y = np.array(labels)\n",
    "\n",
    "from sklearn.model_selection import train_test_split\n",
    "X_train, X_test, y_train, y_test = train_test_split(X, y, test_size=0.33, random_state=42)\n",
    "\n"
   ]
  },
  {
   "cell_type": "code",
   "execution_count": 11,
   "metadata": {
    "ExecuteTime": {
     "end_time": "2019-09-05T11:27:50.267347Z",
     "start_time": "2019-09-05T11:27:50.251815Z"
    }
   },
   "outputs": [
    {
     "data": {
      "text/plain": [
       "(4419, 224, 224, 3)"
      ]
     },
     "execution_count": 11,
     "metadata": {},
     "output_type": "execute_result"
    }
   ],
   "source": [
    "X_train.shape"
   ]
  },
  {
   "cell_type": "code",
   "execution_count": 13,
   "metadata": {
    "ExecuteTime": {
     "end_time": "2019-09-05T11:29:25.114007Z",
     "start_time": "2019-09-05T11:29:19.417342Z"
    }
   },
   "outputs": [],
   "source": [
    "# Normalize image data to 0-to-1 range\n",
    "X_train = vgg16.preprocess_input(X_train)\n",
    "X_test = vgg16.preprocess_input(X_test)"
   ]
  },
  {
   "cell_type": "code",
   "execution_count": 14,
   "metadata": {
    "ExecuteTime": {
     "end_time": "2019-09-05T11:29:58.379158Z",
     "start_time": "2019-09-05T11:29:58.372402Z"
    }
   },
   "outputs": [
    {
     "data": {
      "text/plain": [
       "(2177, 224, 224, 3)"
      ]
     },
     "execution_count": 14,
     "metadata": {},
     "output_type": "execute_result"
    }
   ],
   "source": [
    "X_test.shape"
   ]
  },
  {
   "cell_type": "code",
   "execution_count": 21,
   "metadata": {
    "ExecuteTime": {
     "end_time": "2019-09-05T11:33:08.451918Z",
     "start_time": "2019-09-05T11:33:07.741306Z"
    }
   },
   "outputs": [],
   "source": [
    "# Load a pre-trained neural network to use as a feature extractor\n",
    "# set include_top = False to remove the top layer to be replaced by our own classifier\n",
    "base_model = vgg16.VGG16(weights='imagenet', include_top=False, input_shape=(224, 224, 3))"
   ]
  },
  {
   "cell_type": "code",
   "execution_count": 22,
   "metadata": {
    "ExecuteTime": {
     "end_time": "2019-09-05T11:33:31.817791Z",
     "start_time": "2019-09-05T11:33:31.807384Z"
    }
   },
   "outputs": [
    {
     "name": "stdout",
     "output_type": "stream",
     "text": [
      "Model: \"vgg16\"\n",
      "_________________________________________________________________\n",
      "Layer (type)                 Output Shape              Param #   \n",
      "=================================================================\n",
      "input_3 (InputLayer)         (None, 224, 224, 3)       0         \n",
      "_________________________________________________________________\n",
      "block1_conv1 (Conv2D)        (None, 224, 224, 64)      1792      \n",
      "_________________________________________________________________\n",
      "block1_conv2 (Conv2D)        (None, 224, 224, 64)      36928     \n",
      "_________________________________________________________________\n",
      "block1_pool (MaxPooling2D)   (None, 112, 112, 64)      0         \n",
      "_________________________________________________________________\n",
      "block2_conv1 (Conv2D)        (None, 112, 112, 128)     73856     \n",
      "_________________________________________________________________\n",
      "block2_conv2 (Conv2D)        (None, 112, 112, 128)     147584    \n",
      "_________________________________________________________________\n",
      "block2_pool (MaxPooling2D)   (None, 56, 56, 128)       0         \n",
      "_________________________________________________________________\n",
      "block3_conv1 (Conv2D)        (None, 56, 56, 256)       295168    \n",
      "_________________________________________________________________\n",
      "block3_conv2 (Conv2D)        (None, 56, 56, 256)       590080    \n",
      "_________________________________________________________________\n",
      "block3_conv3 (Conv2D)        (None, 56, 56, 256)       590080    \n",
      "_________________________________________________________________\n",
      "block3_pool (MaxPooling2D)   (None, 28, 28, 256)       0         \n",
      "_________________________________________________________________\n",
      "block4_conv1 (Conv2D)        (None, 28, 28, 512)       1180160   \n",
      "_________________________________________________________________\n",
      "block4_conv2 (Conv2D)        (None, 28, 28, 512)       2359808   \n",
      "_________________________________________________________________\n",
      "block4_conv3 (Conv2D)        (None, 28, 28, 512)       2359808   \n",
      "_________________________________________________________________\n",
      "block4_pool (MaxPooling2D)   (None, 14, 14, 512)       0         \n",
      "_________________________________________________________________\n",
      "block5_conv1 (Conv2D)        (None, 14, 14, 512)       2359808   \n",
      "_________________________________________________________________\n",
      "block5_conv2 (Conv2D)        (None, 14, 14, 512)       2359808   \n",
      "_________________________________________________________________\n",
      "block5_conv3 (Conv2D)        (None, 14, 14, 512)       2359808   \n",
      "_________________________________________________________________\n",
      "block5_pool (MaxPooling2D)   (None, 7, 7, 512)         0         \n",
      "=================================================================\n",
      "Total params: 14,714,688\n",
      "Trainable params: 14,714,688\n",
      "Non-trainable params: 0\n",
      "_________________________________________________________________\n"
     ]
    }
   ],
   "source": [
    "base_model.summary()"
   ]
  },
  {
   "cell_type": "code",
   "execution_count": 27,
   "metadata": {
    "ExecuteTime": {
     "end_time": "2019-09-05T16:56:44.956338Z",
     "start_time": "2019-09-05T16:56:44.683689Z"
    },
    "scrolled": true
   },
   "outputs": [
    {
     "name": "stdout",
     "output_type": "stream",
     "text": [
      "Model: \"model_3\"\n",
      "_________________________________________________________________\n",
      "Layer (type)                 Output Shape              Param #   \n",
      "=================================================================\n",
      "input_3 (InputLayer)         (None, 224, 224, 3)       0         \n",
      "_________________________________________________________________\n",
      "block1_conv1 (Conv2D)        (None, 224, 224, 64)      1792      \n",
      "_________________________________________________________________\n",
      "block1_conv2 (Conv2D)        (None, 224, 224, 64)      36928     \n",
      "_________________________________________________________________\n",
      "block1_pool (MaxPooling2D)   (None, 112, 112, 64)      0         \n",
      "_________________________________________________________________\n",
      "block2_conv1 (Conv2D)        (None, 112, 112, 128)     73856     \n",
      "_________________________________________________________________\n",
      "block2_conv2 (Conv2D)        (None, 112, 112, 128)     147584    \n",
      "_________________________________________________________________\n",
      "block2_pool (MaxPooling2D)   (None, 56, 56, 128)       0         \n",
      "_________________________________________________________________\n",
      "block3_conv1 (Conv2D)        (None, 56, 56, 256)       295168    \n",
      "_________________________________________________________________\n",
      "block3_conv2 (Conv2D)        (None, 56, 56, 256)       590080    \n",
      "_________________________________________________________________\n",
      "block3_conv3 (Conv2D)        (None, 56, 56, 256)       590080    \n",
      "_________________________________________________________________\n",
      "block3_pool (MaxPooling2D)   (None, 28, 28, 256)       0         \n",
      "_________________________________________________________________\n",
      "block4_conv1 (Conv2D)        (None, 28, 28, 512)       1180160   \n",
      "_________________________________________________________________\n",
      "block4_conv2 (Conv2D)        (None, 28, 28, 512)       2359808   \n",
      "_________________________________________________________________\n",
      "block4_conv3 (Conv2D)        (None, 28, 28, 512)       2359808   \n",
      "_________________________________________________________________\n",
      "block4_pool (MaxPooling2D)   (None, 14, 14, 512)       0         \n",
      "_________________________________________________________________\n",
      "block5_conv1 (Conv2D)        (None, 14, 14, 512)       2359808   \n",
      "_________________________________________________________________\n",
      "block5_conv2 (Conv2D)        (None, 14, 14, 512)       2359808   \n",
      "_________________________________________________________________\n",
      "block5_conv3 (Conv2D)        (None, 14, 14, 512)       2359808   \n",
      "_________________________________________________________________\n",
      "block5_pool (MaxPooling2D)   (None, 7, 7, 512)         0         \n",
      "_________________________________________________________________\n",
      "flatten_3 (Flatten)          (None, 25088)             0         \n",
      "_________________________________________________________________\n",
      "dense_7 (Dense)              (None, 224)               5619936   \n",
      "_________________________________________________________________\n",
      "dense_8 (Dense)              (None, 224)               50400     \n",
      "_________________________________________________________________\n",
      "dropout_3 (Dropout)          (None, 224)               0         \n",
      "_________________________________________________________________\n",
      "dense_9 (Dense)              (None, 1)                 225       \n",
      "=================================================================\n",
      "Total params: 20,385,249\n",
      "Trainable params: 5,670,561\n",
      "Non-trainable params: 14,714,688\n",
      "_________________________________________________________________\n",
      "None\n"
     ]
    }
   ],
   "source": [
    "# Define the layers in the new classification prediction \n",
    "from keras.models import Model\n",
    "x = base_model.output\n",
    "x = Flatten()(x)\n",
    "x = Dense(224, activation='relu')(x)        # new FC layer, random init\n",
    "x = Dense(224, activation='relu')(x)        # new FC layer, random init\n",
    "x = Dropout(0.2)(x)\n",
    "predictions = Dense(1, activation='sigmoid')(x)  # new softmax layer\n",
    "\n",
    "# Define trainable model which links input from the  base model to the new classification prediction layers\n",
    "model = Model(inputs=base_model.input, outputs=predictions)\n",
    "\n",
    "# print model structure diagram\n",
    "print (model.summary())"
   ]
  },
  {
   "cell_type": "code",
   "execution_count": 28,
   "metadata": {
    "ExecuteTime": {
     "end_time": "2019-09-05T16:57:11.488495Z",
     "start_time": "2019-09-05T16:57:11.405007Z"
    }
   },
   "outputs": [
    {
     "name": "stdout",
     "output_type": "stream",
     "text": [
      "\n",
      "Performing Transfer Learning\n",
      "<keras.engine.input_layer.InputLayer object at 0x1d050eac50>\n",
      "<keras.layers.convolutional.Conv2D object at 0x1d050ea908>\n",
      "<keras.layers.convolutional.Conv2D object at 0x1d050eabe0>\n",
      "<keras.layers.pooling.MaxPooling2D object at 0x1d051007f0>\n",
      "<keras.layers.convolutional.Conv2D object at 0x1d051002e8>\n",
      "<keras.layers.convolutional.Conv2D object at 0xb2459f940>\n",
      "<keras.layers.pooling.MaxPooling2D object at 0x1d050dde10>\n",
      "<keras.layers.convolutional.Conv2D object at 0x1d00138748>\n",
      "<keras.layers.convolutional.Conv2D object at 0x1d00155cf8>\n",
      "<keras.layers.convolutional.Conv2D object at 0x1d0016ac50>\n",
      "<keras.layers.pooling.MaxPooling2D object at 0x1d08a8ae10>\n",
      "<keras.layers.convolutional.Conv2D object at 0x1d08a8add8>\n",
      "<keras.layers.convolutional.Conv2D object at 0xb247d54a8>\n",
      "<keras.layers.convolutional.Conv2D object at 0xb247d5ba8>\n",
      "<keras.layers.pooling.MaxPooling2D object at 0xb2480cc18>\n",
      "<keras.layers.convolutional.Conv2D object at 0xb2480c978>\n",
      "<keras.layers.convolutional.Conv2D object at 0xb24840898>\n",
      "<keras.layers.convolutional.Conv2D object at 0xb2485acf8>\n",
      "<keras.layers.pooling.MaxPooling2D object at 0xb24870d30>\n"
     ]
    }
   ],
   "source": [
    "# Transfer Learning\n",
    "print ('\\nPerforming Transfer Learning')\n",
    "  #   Freeze all layers in the vgg16 base model \n",
    "\n",
    "for layer in base_model.layers:\n",
    "  print(layer)\n",
    "  layer.trainable = False\n",
    "#   Define model compile for basic Transfer Learning\n",
    "model.compile(optimizer='adam', loss='binary_crossentropy', metrics=['accuracy'])\n"
   ]
  },
  {
   "cell_type": "code",
   "execution_count": 29,
   "metadata": {
    "ExecuteTime": {
     "end_time": "2019-09-05T22:19:10.714347Z",
     "start_time": "2019-09-05T16:57:39.460689Z"
    }
   },
   "outputs": [
    {
     "name": "stdout",
     "output_type": "stream",
     "text": [
      "Train on 4419 samples, validate on 2177 samples\n",
      "Epoch 1/20\n",
      "4419/4419 [==============================] - 1316s 298ms/step - loss: 1.8214 - acc: 0.8812 - val_loss: 2.2959 - val_acc: 0.8562\n",
      "Epoch 2/20\n",
      "4419/4419 [==============================] - 1204s 272ms/step - loss: 1.4546 - acc: 0.9081 - val_loss: 2.0287 - val_acc: 0.8714\n",
      "Epoch 3/20\n",
      "4419/4419 [==============================] - 949s 215ms/step - loss: 2.3928 - acc: 0.8495 - val_loss: 1.8306 - val_acc: 0.8852\n",
      "Epoch 4/20\n",
      "4419/4419 [==============================] - 948s 215ms/step - loss: 2.1543 - acc: 0.8647 - val_loss: 3.2510 - val_acc: 0.7960\n",
      "Epoch 5/20\n",
      "4419/4419 [==============================] - 942s 213ms/step - loss: 1.5047 - acc: 0.9061 - val_loss: 1.1952 - val_acc: 0.9256\n",
      "Epoch 6/20\n",
      "4419/4419 [==============================] - 943s 213ms/step - loss: 1.1805 - acc: 0.9265 - val_loss: 1.7642 - val_acc: 0.8902\n",
      "Epoch 7/20\n",
      "4419/4419 [==============================] - 939s 213ms/step - loss: 2.5748 - acc: 0.8402 - val_loss: 2.4802 - val_acc: 0.8461\n",
      "Epoch 8/20\n",
      "4419/4419 [==============================] - 937s 212ms/step - loss: 2.3596 - acc: 0.8536 - val_loss: 2.4619 - val_acc: 0.8470\n",
      "Epoch 9/20\n",
      "4419/4419 [==============================] - 935s 212ms/step - loss: 1.8109 - acc: 0.8871 - val_loss: 0.9725 - val_acc: 0.9394\n",
      "Epoch 10/20\n",
      "4419/4419 [==============================] - 938s 212ms/step - loss: 2.9977 - acc: 0.8138 - val_loss: 1.0728 - val_acc: 0.9329\n",
      "Epoch 11/20\n",
      "4419/4419 [==============================] - 932s 211ms/step - loss: 0.9476 - acc: 0.9405 - val_loss: 0.9794 - val_acc: 0.9384\n",
      "Epoch 12/20\n",
      "4419/4419 [==============================] - 928s 210ms/step - loss: 1.6351 - acc: 0.8973 - val_loss: 3.0627 - val_acc: 0.8075\n",
      "Epoch 13/20\n",
      "4419/4419 [==============================] - 927s 210ms/step - loss: 1.4022 - acc: 0.9120 - val_loss: 1.0069 - val_acc: 0.9371\n",
      "Epoch 14/20\n",
      "4419/4419 [==============================] - 926s 210ms/step - loss: 1.9880 - acc: 0.8764 - val_loss: 2.5244 - val_acc: 0.8434\n",
      "Epoch 15/20\n",
      "4419/4419 [==============================] - 921s 208ms/step - loss: 1.5650 - acc: 0.9018 - val_loss: 1.6929 - val_acc: 0.8939\n",
      "Epoch 16/20\n",
      "4419/4419 [==============================] - 920s 208ms/step - loss: 1.5233 - acc: 0.9045 - val_loss: 1.6929 - val_acc: 0.8939\n",
      "Epoch 17/20\n",
      "4419/4419 [==============================] - 919s 208ms/step - loss: 3.3725 - acc: 0.7900 - val_loss: 2.4578 - val_acc: 0.8475\n",
      "Epoch 18/20\n",
      "4419/4419 [==============================] - 924s 209ms/step - loss: 1.2205 - acc: 0.9242 - val_loss: 1.3093 - val_acc: 0.9187\n",
      "Epoch 19/20\n",
      "4419/4419 [==============================] - 921s 208ms/step - loss: 0.9826 - acc: 0.9387 - val_loss: 1.1017 - val_acc: 0.9311\n",
      "Epoch 20/20\n",
      "4419/4419 [==============================] - 920s 208ms/step - loss: 1.4307 - acc: 0.9108 - val_loss: 1.1806 - val_acc: 0.9260\n"
     ]
    },
    {
     "data": {
      "text/plain": [
       "<keras.callbacks.History at 0x1d04713978>"
      ]
     },
     "execution_count": 29,
     "metadata": {},
     "output_type": "execute_result"
    }
   ],
   "source": [
    "# Train the model\n",
    "model.fit(\n",
    "    X_train,\n",
    "    y_train,\n",
    "    epochs=20,\n",
    "    batch_size=32,\n",
    "    validation_data=(X_test,y_test)\n",
    ")"
   ]
  },
  {
   "cell_type": "code",
   "execution_count": 31,
   "metadata": {
    "ExecuteTime": {
     "end_time": "2019-09-06T02:22:33.212208Z",
     "start_time": "2019-09-06T02:15:28.477831Z"
    }
   },
   "outputs": [],
   "source": [
    "predictions = model.predict(X_test)"
   ]
  },
  {
   "cell_type": "code",
   "execution_count": 36,
   "metadata": {
    "ExecuteTime": {
     "end_time": "2019-09-06T02:25:14.172174Z",
     "start_time": "2019-09-06T02:25:14.157464Z"
    }
   },
   "outputs": [],
   "source": [
    "# test out for one image\n",
    "images = []\n",
    "for img in dog_path.glob(\"*.jpg\"):\n",
    "    # Load the image from disk\n",
    "    img = image.load_img(img, target_size=(224,224))\n",
    "\n",
    "    # Convert the image to a numpy array\n",
    "    image_array = image.img_to_array(img)\n",
    "\n",
    "    # Add the image to the list of images\n",
    "    images.append(image_array)\n",
    "\n",
    "    # For each 'dog' image, the expected value should be 1\n",
    "    labels.append(1)\n",
    "    \n",
    "    break;\n"
   ]
  },
  {
   "cell_type": "code",
   "execution_count": 37,
   "metadata": {
    "ExecuteTime": {
     "end_time": "2019-09-06T02:25:16.783328Z",
     "start_time": "2019-09-06T02:25:16.780625Z"
    }
   },
   "outputs": [],
   "source": [
    "X = np.array(images)"
   ]
  },
  {
   "cell_type": "code",
   "execution_count": 38,
   "metadata": {
    "ExecuteTime": {
     "end_time": "2019-09-06T02:25:17.337424Z",
     "start_time": "2019-09-06T02:25:17.332181Z"
    }
   },
   "outputs": [
    {
     "data": {
      "text/plain": [
       "(1, 224, 224, 3)"
      ]
     },
     "execution_count": 38,
     "metadata": {},
     "output_type": "execute_result"
    }
   ],
   "source": [
    "X.shape"
   ]
  },
  {
   "cell_type": "code",
   "execution_count": 39,
   "metadata": {
    "ExecuteTime": {
     "end_time": "2019-09-06T02:25:18.415588Z",
     "start_time": "2019-09-06T02:25:18.411660Z"
    }
   },
   "outputs": [
    {
     "data": {
      "text/plain": [
       "(224, 224, 3)"
      ]
     },
     "execution_count": 39,
     "metadata": {},
     "output_type": "execute_result"
    }
   ],
   "source": [
    "image_array.shape"
   ]
  },
  {
   "cell_type": "code",
   "execution_count": 40,
   "metadata": {
    "ExecuteTime": {
     "end_time": "2019-09-06T02:25:21.404602Z",
     "start_time": "2019-09-06T02:25:21.249400Z"
    }
   },
   "outputs": [],
   "source": [
    "predictions = model.predict(X)"
   ]
  },
  {
   "cell_type": "code",
   "execution_count": 41,
   "metadata": {
    "ExecuteTime": {
     "end_time": "2019-09-06T02:25:23.307240Z",
     "start_time": "2019-09-06T02:25:23.303380Z"
    }
   },
   "outputs": [
    {
     "name": "stdout",
     "output_type": "stream",
     "text": [
      "[[1.]]\n"
     ]
    }
   ],
   "source": [
    "print(predictions)"
   ]
  },
  {
   "cell_type": "markdown",
   "metadata": {},
   "source": [
    "## Model Tuning "
   ]
  },
  {
   "cell_type": "code",
   "execution_count": 42,
   "metadata": {
    "ExecuteTime": {
     "end_time": "2019-09-06T02:25:51.148395Z",
     "start_time": "2019-09-06T02:25:51.137346Z"
    }
   },
   "outputs": [
    {
     "name": "stdout",
     "output_type": "stream",
     "text": [
      "<keras.engine.input_layer.InputLayer object at 0x1d050eac50>\n",
      "False\n",
      "<keras.layers.convolutional.Conv2D object at 0x1d050ea908>\n",
      "False\n",
      "<keras.layers.convolutional.Conv2D object at 0x1d050eabe0>\n",
      "False\n",
      "<keras.layers.pooling.MaxPooling2D object at 0x1d051007f0>\n",
      "False\n",
      "<keras.layers.convolutional.Conv2D object at 0x1d051002e8>\n",
      "False\n",
      "<keras.layers.convolutional.Conv2D object at 0xb2459f940>\n",
      "False\n",
      "<keras.layers.pooling.MaxPooling2D object at 0x1d050dde10>\n",
      "False\n",
      "<keras.layers.convolutional.Conv2D object at 0x1d00138748>\n",
      "False\n",
      "<keras.layers.convolutional.Conv2D object at 0x1d00155cf8>\n",
      "False\n",
      "<keras.layers.convolutional.Conv2D object at 0x1d0016ac50>\n",
      "False\n",
      "<keras.layers.pooling.MaxPooling2D object at 0x1d08a8ae10>\n",
      "False\n",
      "<keras.layers.convolutional.Conv2D object at 0x1d08a8add8>\n",
      "False\n",
      "<keras.layers.convolutional.Conv2D object at 0xb247d54a8>\n",
      "False\n",
      "<keras.layers.convolutional.Conv2D object at 0xb247d5ba8>\n",
      "False\n",
      "<keras.layers.pooling.MaxPooling2D object at 0xb2480cc18>\n",
      "False\n",
      "<keras.layers.convolutional.Conv2D object at 0xb2480c978>\n",
      "False\n",
      "<keras.layers.convolutional.Conv2D object at 0xb24840898>\n",
      "False\n",
      "<keras.layers.convolutional.Conv2D object at 0xb2485acf8>\n",
      "False\n",
      "<keras.layers.pooling.MaxPooling2D object at 0xb24870d30>\n",
      "False\n"
     ]
    }
   ],
   "source": [
    "# Fine Tuning\n",
    "Layers_To_Freeze = 19\n",
    "for layer in base_model.layers[:Layers_To_Freeze]:\n",
    "  layer.trainable = False\n",
    "for layer in base_model.layers[Layers_To_Freeze:]:\n",
    "  layer.trainable = True\n",
    "\n",
    "for layer in base_model.layers:\n",
    "    print(layer)\n",
    "    print(layer.trainable)\n"
   ]
  },
  {
   "cell_type": "code",
   "execution_count": 43,
   "metadata": {
    "ExecuteTime": {
     "end_time": "2019-09-06T02:25:55.033442Z",
     "start_time": "2019-09-06T02:25:54.974349Z"
    }
   },
   "outputs": [],
   "source": [
    "#   Define model compile for basic Transfer Learning\n",
    "model.compile(optimizer='adam', loss='binary_crossentropy', metrics=['accuracy'])"
   ]
  },
  {
   "cell_type": "code",
   "execution_count": 44,
   "metadata": {
    "ExecuteTime": {
     "end_time": "2019-09-06T02:25:55.666180Z",
     "start_time": "2019-09-06T02:25:55.658125Z"
    }
   },
   "outputs": [
    {
     "name": "stdout",
     "output_type": "stream",
     "text": [
      "Model: \"model_3\"\n",
      "_________________________________________________________________\n",
      "Layer (type)                 Output Shape              Param #   \n",
      "=================================================================\n",
      "input_3 (InputLayer)         (None, 224, 224, 3)       0         \n",
      "_________________________________________________________________\n",
      "block1_conv1 (Conv2D)        (None, 224, 224, 64)      1792      \n",
      "_________________________________________________________________\n",
      "block1_conv2 (Conv2D)        (None, 224, 224, 64)      36928     \n",
      "_________________________________________________________________\n",
      "block1_pool (MaxPooling2D)   (None, 112, 112, 64)      0         \n",
      "_________________________________________________________________\n",
      "block2_conv1 (Conv2D)        (None, 112, 112, 128)     73856     \n",
      "_________________________________________________________________\n",
      "block2_conv2 (Conv2D)        (None, 112, 112, 128)     147584    \n",
      "_________________________________________________________________\n",
      "block2_pool (MaxPooling2D)   (None, 56, 56, 128)       0         \n",
      "_________________________________________________________________\n",
      "block3_conv1 (Conv2D)        (None, 56, 56, 256)       295168    \n",
      "_________________________________________________________________\n",
      "block3_conv2 (Conv2D)        (None, 56, 56, 256)       590080    \n",
      "_________________________________________________________________\n",
      "block3_conv3 (Conv2D)        (None, 56, 56, 256)       590080    \n",
      "_________________________________________________________________\n",
      "block3_pool (MaxPooling2D)   (None, 28, 28, 256)       0         \n",
      "_________________________________________________________________\n",
      "block4_conv1 (Conv2D)        (None, 28, 28, 512)       1180160   \n",
      "_________________________________________________________________\n",
      "block4_conv2 (Conv2D)        (None, 28, 28, 512)       2359808   \n",
      "_________________________________________________________________\n",
      "block4_conv3 (Conv2D)        (None, 28, 28, 512)       2359808   \n",
      "_________________________________________________________________\n",
      "block4_pool (MaxPooling2D)   (None, 14, 14, 512)       0         \n",
      "_________________________________________________________________\n",
      "block5_conv1 (Conv2D)        (None, 14, 14, 512)       2359808   \n",
      "_________________________________________________________________\n",
      "block5_conv2 (Conv2D)        (None, 14, 14, 512)       2359808   \n",
      "_________________________________________________________________\n",
      "block5_conv3 (Conv2D)        (None, 14, 14, 512)       2359808   \n",
      "_________________________________________________________________\n",
      "block5_pool (MaxPooling2D)   (None, 7, 7, 512)         0         \n",
      "_________________________________________________________________\n",
      "flatten_3 (Flatten)          (None, 25088)             0         \n",
      "_________________________________________________________________\n",
      "dense_7 (Dense)              (None, 224)               5619936   \n",
      "_________________________________________________________________\n",
      "dense_8 (Dense)              (None, 224)               50400     \n",
      "_________________________________________________________________\n",
      "dropout_3 (Dropout)          (None, 224)               0         \n",
      "_________________________________________________________________\n",
      "dense_9 (Dense)              (None, 1)                 225       \n",
      "=================================================================\n",
      "Total params: 20,385,249\n",
      "Trainable params: 5,670,561\n",
      "Non-trainable params: 14,714,688\n",
      "_________________________________________________________________\n"
     ]
    }
   ],
   "source": [
    "model.summary()"
   ]
  },
  {
   "cell_type": "markdown",
   "metadata": {},
   "source": [
    "# Train the model\n",
    "## Also introduce early stopping\n"
   ]
  },
  {
   "cell_type": "code",
   "execution_count": 45,
   "metadata": {
    "ExecuteTime": {
     "end_time": "2019-09-06T02:26:00.555622Z",
     "start_time": "2019-09-06T02:26:00.553095Z"
    }
   },
   "outputs": [],
   "source": [
    "\n",
    "# The patience parameter is the amount of epochs to check for improvement\n",
    "early_stop = callbacks.EarlyStopping(monitor='val_loss', patience=5)"
   ]
  },
  {
   "cell_type": "markdown",
   "metadata": {},
   "source": [
    " "
   ]
  },
  {
   "cell_type": "code",
   "execution_count": 47,
   "metadata": {
    "ExecuteTime": {
     "end_time": "2019-09-06T05:38:46.016680Z",
     "start_time": "2019-09-06T02:27:57.647653Z"
    }
   },
   "outputs": [
    {
     "name": "stdout",
     "output_type": "stream",
     "text": [
      "Train on 4419 samples, validate on 2177 samples\n",
      "Epoch 1/20\n",
      "4419/4419 [==============================] - 1535s 347ms/step - loss: 1.0536 - acc: 0.9344 - val_loss: 1.2262 - val_acc: 0.9237\n",
      "Epoch 2/20\n",
      "4419/4419 [==============================] - 1698s 384ms/step - loss: 1.1351 - acc: 0.9289 - val_loss: 0.9152 - val_acc: 0.9430\n",
      "Epoch 3/20\n",
      "4419/4419 [==============================] - 1756s 397ms/step - loss: 2.3241 - acc: 0.8556 - val_loss: 3.0651 - val_acc: 0.8098\n",
      "Epoch 4/20\n",
      "4419/4419 [==============================] - 1840s 416ms/step - loss: 1.7354 - acc: 0.8923 - val_loss: 1.7837 - val_acc: 0.8893\n",
      "Epoch 5/20\n",
      "4419/4419 [==============================] - 1411s 319ms/step - loss: 1.6552 - acc: 0.8973 - val_loss: 1.7837 - val_acc: 0.8893\n",
      "Epoch 6/20\n",
      "4419/4419 [==============================] - 1498s 339ms/step - loss: 1.5559 - acc: 0.9025 - val_loss: 1.9924 - val_acc: 0.8751\n",
      "Epoch 7/20\n",
      "4419/4419 [==============================] - 1709s 387ms/step - loss: 1.1580 - acc: 0.9278 - val_loss: 1.1465 - val_acc: 0.9288\n"
     ]
    },
    {
     "data": {
      "text/plain": [
       "<keras.callbacks.History at 0x6365e9278>"
      ]
     },
     "execution_count": 47,
     "metadata": {},
     "output_type": "execute_result"
    }
   ],
   "source": [
    "model.fit( X_train, y_train, epochs=20, batch_size=32, validation_data=(X_test,y_test),callbacks=[early_stop] )"
   ]
  },
  {
   "cell_type": "markdown",
   "metadata": {},
   "source": [
    "## Tuning -  Using ImageDataGenerator"
   ]
  },
  {
   "cell_type": "code",
   "execution_count": 48,
   "metadata": {
    "ExecuteTime": {
     "end_time": "2019-09-06T10:34:41.165150Z",
     "start_time": "2019-09-06T05:39:05.038664Z"
    }
   },
   "outputs": [
    {
     "name": "stdout",
     "output_type": "stream",
     "text": [
      "Epoch 1/30\n",
      "138/138 [==============================] - 1535s 11s/step - loss: 1.6575 - acc: 0.8965 - val_loss: 1.2387 - val_acc: 0.9224\n",
      "Epoch 2/30\n",
      "138/138 [==============================] - 1428s 10s/step - loss: 1.3138 - acc: 0.9179 - val_loss: 1.1509 - val_acc: 0.9279\n",
      "Epoch 3/30\n",
      "138/138 [==============================] - 1449s 10s/step - loss: 1.4260 - acc: 0.9109 - val_loss: 1.2094 - val_acc: 0.9242\n",
      "Epoch 4/30\n",
      "138/138 [==============================] - 1390s 10s/step - loss: 1.8998 - acc: 0.8811 - val_loss: 2.7521 - val_acc: 0.8273\n",
      "Epoch 5/30\n",
      "138/138 [==============================] - 1500s 11s/step - loss: 2.1267 - acc: 0.8666 - val_loss: 1.1809 - val_acc: 0.9260\n",
      "Epoch 6/30\n",
      "138/138 [==============================] - 1380s 10s/step - loss: 1.8542 - acc: 0.8836 - val_loss: 1.3269 - val_acc: 0.9169\n",
      "Epoch 7/30\n",
      "138/138 [==============================] - 1461s 11s/step - loss: 1.4882 - acc: 0.9074 - val_loss: 0.9988 - val_acc: 0.9375\n",
      "Epoch 8/30\n",
      "138/138 [==============================] - 1381s 10s/step - loss: 1.2670 - acc: 0.9210 - val_loss: 0.9988 - val_acc: 0.9375\n",
      "Epoch 9/30\n",
      "138/138 [==============================] - 1497s 11s/step - loss: 1.3179 - acc: 0.9178 - val_loss: 0.9988 - val_acc: 0.9375\n",
      "Epoch 10/30\n",
      "138/138 [==============================] - 1560s 11s/step - loss: 1.1759 - acc: 0.9266 - val_loss: 0.9988 - val_acc: 0.9375\n",
      "Epoch 11/30\n",
      "138/138 [==============================] - 1524s 11s/step - loss: 1.3576 - acc: 0.9153 - val_loss: 0.9988 - val_acc: 0.9375\n",
      "Epoch 12/30\n",
      "138/138 [==============================] - 1630s 12s/step - loss: 1.2729 - acc: 0.9205 - val_loss: 1.1034 - val_acc: 0.9306\n"
     ]
    }
   ],
   "source": [
    "# construct the training image generator for data augmentation\n",
    "gen = ImageDataGenerator(rotation_range=20, zoom_range=0.15,width_shift_range=0.2, height_shift_range=0.2, shear_range=0.15,horizontal_flip=True)\n",
    " \n",
    "# train the network\n",
    "H = model.fit_generator(gen.flow( X_train, y_train, batch_size=32),validation_data=(X_test,y_test), steps_per_epoch=len(X_train) // 32, epochs=30,callbacks=[early_stop])"
   ]
  },
  {
   "cell_type": "code",
   "execution_count": 50,
   "metadata": {
    "ExecuteTime": {
     "end_time": "2019-09-06T11:01:22.655784Z",
     "start_time": "2019-09-06T10:54:01.366583Z"
    }
   },
   "outputs": [
    {
     "name": "stdout",
     "output_type": "stream",
     "text": [
      "Test loss: 1.103439244515724\n",
      "Test accuracy: 0.9306384933394579\n"
     ]
    },
    {
     "data": {
      "image/png": "[encoded data removed]",
      "text/plain": [
       "<Figure size 432x288 with 1 Axes>"
      ]
     },
     "metadata": {
      "needs_background": "light"
     },
     "output_type": "display_data"
    }
   ],
   "source": [
    "#   Evaluate the model with the test data to get the scores on \"real\" data.\n",
    "score = model.evaluate(X_test, y_test, verbose=0)\n",
    "print('Test loss:', score[0])\n",
    "print('Test accuracy:', score[1])\n",
    "\n",
    "#   Plot data to see relationships in training and validation data\n",
    "import numpy as np\n",
    "import matplotlib.pyplot as plt\n",
    "%matplotlib inline\n",
    "epoch_list = list(range(1, len(H.history['acc']) + 1))  # values for x axis [1, 2, ..., # of epochs]\n",
    "plt.plot(epoch_list, H.history['acc'], epoch_list, H.history['val_acc'])\n",
    "plt.legend(('Training Accuracy', 'Validation Accuracy'))\n",
    "plt.show()"
   ]
  },
  {
   "cell_type": "code",
   "execution_count": null,
   "metadata": {},
   "outputs": [],
   "source": []
  }
 ],
 "metadata": {
  "kernelspec": {
   "display_name": "Python 3",
   "language": "python",
   "name": "python3"
  },
  "language_info": {
   "codemirror_mode": {
    "name": "ipython",
    "version": 3
   },
   "file_extension": ".py",
   "mimetype": "text/x-python",
   "name": "python",
   "nbconvert_exporter": "python",
   "pygments_lexer": "ipython3",
   "version": "3.7.3"
  },
  "toc": {
   "base_numbering": 1,
   "nav_menu": {},
   "number_sections": true,
   "sideBar": true,
   "skip_h1_title": false,
   "title_cell": "Table of Contents",
   "title_sidebar": "Contents",
   "toc_cell": false,
   "toc_position": {},
   "toc_section_display": true,
   "toc_window_display": false
  },
  "varInspector": {
   "cols": {
    "lenName": 16,
    "lenType": 16,
    "lenVar": 40
   },
   "kernels_config": {
    "python": {
     "delete_cmd_postfix": "",
     "delete_cmd_prefix": "del ",
     "library": "var_list.py",
     "varRefreshCmd": "print(var_dic_list())"
    },
    "r": {
     "delete_cmd_postfix": ") ",
     "delete_cmd_prefix": "rm(",
     "library": "var_list.r",
     "varRefreshCmd": "cat(var_dic_list()) "
    }
   },
   "types_to_exclude": [
    "module",
    "function",
    "builtin_function_or_method",
    "instance",
    "_Feature"
   ],
   "window_display": false
  }
 },
 "nbformat": 4,
 "nbformat_minor": 2
}
